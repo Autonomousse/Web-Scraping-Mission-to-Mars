{
 "metadata": {
  "language_info": {
   "codemirror_mode": {
    "name": "ipython",
    "version": 3
   },
   "file_extension": ".py",
   "mimetype": "text/x-python",
   "name": "python",
   "nbconvert_exporter": "python",
   "pygments_lexer": "ipython3",
   "version": "3.6.10-final"
  },
  "orig_nbformat": 2,
  "kernelspec": {
   "name": "python_defaultSpec_1598052952627",
   "display_name": "Python 3.6.10 64-bit ('PythonData': conda)"
  }
 },
 "nbformat": 4,
 "nbformat_minor": 2,
 "cells": [
  {
   "cell_type": "code",
   "execution_count": 20,
   "metadata": {},
   "outputs": [],
   "source": [
    "# Import dependencies\n",
    "from splinter import Browser\n",
    "from splinter.exceptions import ElementDoesNotExist\n",
    "from bs4 import BeautifulSoup\n",
    "import pandas as pd\n",
    "import time"
   ]
  },
  {
   "cell_type": "code",
   "execution_count": 21,
   "metadata": {
    "tags": []
   },
   "outputs": [],
   "source": [
    "# Set the path for chromedriver (include chromdriver.exe in the same folder)\n",
    "executable_path = {'executable_path': 'chromedriver.exe'}\n",
    "browser = Browser('chrome', **executable_path, headless=False)"
   ]
  },
  {
   "cell_type": "markdown",
   "metadata": {},
   "source": [
    "## Step 1 - Scraping"
   ]
  },
  {
   "cell_type": "markdown",
   "metadata": {},
   "source": [
    "### NASA Mars News"
   ]
  },
  {
   "cell_type": "code",
   "execution_count": 22,
   "metadata": {},
   "outputs": [],
   "source": [
    "# Set the URL for the browser to open and visit the website\n",
    "news_url = 'https://mars.nasa.gov/news/'\n",
    "browser.visit(news_url)\n",
    "\n",
    "# Wait 5 seconds so the browser can fully load, otherwise an empty HTML object may be created\n",
    "time.sleep(5)\n",
    "\n",
    "# Create an HTML object from the web page\n",
    "news_html = browser.html\n",
    "\n",
    "# Use BeautifulSoup to parse through the HTML object and store it in a variable\n",
    "news_soup = BeautifulSoup(news_html, 'html.parser')"
   ]
  },
  {
   "cell_type": "code",
   "execution_count": 23,
   "metadata": {
    "tags": []
   },
   "outputs": [
    {
     "output_type": "execute_result",
     "data": {
      "text/plain": "\"Follow NASA's Perseverance Rover in Real Time on Its Way to Mars\""
     },
     "metadata": {},
     "execution_count": 23
    }
   ],
   "source": [
    "# Scrape and collect the latest News Article Title\n",
    "title = news_soup.find('ul', class_='item_list').find('div', class_='content_title').find('a').text\n",
    "\n",
    "# Verify we have the correct title\n",
    "title"
   ]
  },
  {
   "cell_type": "code",
   "execution_count": 24,
   "metadata": {},
   "outputs": [
    {
     "output_type": "execute_result",
     "data": {
      "text/plain": "\"A crisply rendered web application can show you where the agency's Mars 2020 mission is right now as it makes its way to the Red Planet for a Feb. 18, 2021, landing.\""
     },
     "metadata": {},
     "execution_count": 24
    }
   ],
   "source": [
    "# Scrape and collect the News Article Teaser, right below the News Article Title\n",
    "teaser = news_soup.find('ul', class_='item_list').find('div', class_='article_teaser_body').text\n",
    "\n",
    "# Verify we have the correct article teaser\n",
    "teaser"
   ]
  },
  {
   "cell_type": "markdown",
   "metadata": {},
   "source": [
    "### JPL Mars Space Images - Featured Image"
   ]
  },
  {
   "cell_type": "code",
   "execution_count": 6,
   "metadata": {},
   "outputs": [],
   "source": [
    "# Set the URL for the browser to open and visit the website\n",
    "# Save the URL for the home page as we need it to append the route of the featured image later\n",
    "home_url = 'https://www.jpl.nasa.gov'\n",
    "image_url = 'https://www.jpl.nasa.gov/spaceimages/?search=&category=Mars'\n",
    "browser.visit(image_url)\n",
    "\n",
    "# Wait 5 seconds so the browser can fully load, otherwise an empty HTML object may be created\n",
    "time.sleep(5)\n",
    "\n",
    "# Create an HTML object from the web page\n",
    "image_html = browser.html\n",
    "\n",
    "# Use BeautifulSoup to parse through the HTML object and store it in a variable\n",
    "image_soup = BeautifulSoup(image_html, 'html.parser')"
   ]
  },
  {
   "cell_type": "code",
   "execution_count": 7,
   "metadata": {},
   "outputs": [
    {
     "output_type": "execute_result",
     "data": {
      "text/plain": "'https://www.jpl.nasa.gov/spaceimages/images/wallpaper/PIA14293-1920x1200.jpg'"
     },
     "metadata": {},
     "execution_count": 7
    }
   ],
   "source": [
    "# Scrape and collect the URL for the full sized Featured Image\n",
    "featured = image_soup.find('section', class_='primary_media_feature').find('div', class_='carousel_items').find('article')['style']\n",
    "\n",
    "# Split the inline CSS Style attribute object returned to capture the route to the full sized image\n",
    "featured_image = featured.split(\"'\")[1]\n",
    "\n",
    "# Append the route to the home URL to get the full link\n",
    "featured_image_url = home_url + featured_image\n",
    "\n",
    "# Verify we have the correct link\n",
    "featured_image_url"
   ]
  },
  {
   "cell_type": "markdown",
   "metadata": {},
   "source": [
    "### Mars Facts"
   ]
  },
  {
   "cell_type": "code",
   "execution_count": 8,
   "metadata": {},
   "outputs": [
    {
     "output_type": "execute_result",
     "data": {
      "text/plain": "                      0                              1\n0  Equatorial Diameter:                       6,792 km\n1       Polar Diameter:                       6,752 km\n2                 Mass:  6.39 × 10^23 kg (0.11 Earths)\n3                Moons:            2 (Phobos & Deimos)\n4       Orbit Distance:       227,943,824 km (1.38 AU)\n5         Orbit Period:           687 days (1.9 years)\n6  Surface Temperature:                   -87 to -5 °C\n7         First Record:              2nd millennium BC\n8          Recorded By:           Egyptian astronomers",
      "text/html": "<div>\n<style scoped>\n    .dataframe tbody tr th:only-of-type {\n        vertical-align: middle;\n    }\n\n    .dataframe tbody tr th {\n        vertical-align: top;\n    }\n\n    .dataframe thead th {\n        text-align: right;\n    }\n</style>\n<table border=\"1\" class=\"dataframe\">\n  <thead>\n    <tr style=\"text-align: right;\">\n      <th></th>\n      <th>0</th>\n      <th>1</th>\n    </tr>\n  </thead>\n  <tbody>\n    <tr>\n      <th>0</th>\n      <td>Equatorial Diameter:</td>\n      <td>6,792 km</td>\n    </tr>\n    <tr>\n      <th>1</th>\n      <td>Polar Diameter:</td>\n      <td>6,752 km</td>\n    </tr>\n    <tr>\n      <th>2</th>\n      <td>Mass:</td>\n      <td>6.39 × 10^23 kg (0.11 Earths)</td>\n    </tr>\n    <tr>\n      <th>3</th>\n      <td>Moons:</td>\n      <td>2 (Phobos &amp; Deimos)</td>\n    </tr>\n    <tr>\n      <th>4</th>\n      <td>Orbit Distance:</td>\n      <td>227,943,824 km (1.38 AU)</td>\n    </tr>\n    <tr>\n      <th>5</th>\n      <td>Orbit Period:</td>\n      <td>687 days (1.9 years)</td>\n    </tr>\n    <tr>\n      <th>6</th>\n      <td>Surface Temperature:</td>\n      <td>-87 to -5 °C</td>\n    </tr>\n    <tr>\n      <th>7</th>\n      <td>First Record:</td>\n      <td>2nd millennium BC</td>\n    </tr>\n    <tr>\n      <th>8</th>\n      <td>Recorded By:</td>\n      <td>Egyptian astronomers</td>\n    </tr>\n  </tbody>\n</table>\n</div>"
     },
     "metadata": {},
     "execution_count": 8
    }
   ],
   "source": [
    "# Set the URL for pandas to read into a table\n",
    "facts_url = 'https://space-facts.com/mars/'\n",
    "\n",
    "# Visit the page to grab the name of the table so we can insert it as a header\n",
    "browser.visit(facts_url)\n",
    "\n",
    "# Wait 5 seconds so the browser can fully load, otherwise an empty HTML object may be created\n",
    "time.sleep(5)\n",
    "\n",
    "table_html = browser.html\n",
    "table_soup = BeautifulSoup(table_html, 'html.parser')\n",
    "table_name = table_soup.find('section', class_='widget-area').find('div', class_='widget-header').find('h3').text\n",
    "\n",
    "# Read the tables into pandas\n",
    "tables = pd.read_html(facts_url)\n",
    "\n",
    "# Display the table with facts about Mars\n",
    "facts_table = tables[0]\n",
    "facts_table"
   ]
  },
  {
   "cell_type": "code",
   "execution_count": 9,
   "metadata": {},
   "outputs": [
    {
     "output_type": "execute_result",
     "data": {
      "text/plain": "    Mars Planet Profile                               \n0  Equatorial Diameter:                       6,792 km\n1       Polar Diameter:                       6,752 km\n2                 Mass:  6.39 × 10^23 kg (0.11 Earths)\n3                Moons:            2 (Phobos & Deimos)\n4       Orbit Distance:       227,943,824 km (1.38 AU)\n5         Orbit Period:           687 days (1.9 years)\n6  Surface Temperature:                   -87 to -5 °C\n7         First Record:              2nd millennium BC\n8          Recorded By:           Egyptian astronomers",
      "text/html": "<div>\n<style scoped>\n    .dataframe tbody tr th:only-of-type {\n        vertical-align: middle;\n    }\n\n    .dataframe tbody tr th {\n        vertical-align: top;\n    }\n\n    .dataframe thead th {\n        text-align: right;\n    }\n</style>\n<table border=\"1\" class=\"dataframe\">\n  <thead>\n    <tr style=\"text-align: right;\">\n      <th></th>\n      <th>Mars Planet Profile</th>\n      <th></th>\n    </tr>\n  </thead>\n  <tbody>\n    <tr>\n      <th>0</th>\n      <td>Equatorial Diameter:</td>\n      <td>6,792 km</td>\n    </tr>\n    <tr>\n      <th>1</th>\n      <td>Polar Diameter:</td>\n      <td>6,752 km</td>\n    </tr>\n    <tr>\n      <th>2</th>\n      <td>Mass:</td>\n      <td>6.39 × 10^23 kg (0.11 Earths)</td>\n    </tr>\n    <tr>\n      <th>3</th>\n      <td>Moons:</td>\n      <td>2 (Phobos &amp; Deimos)</td>\n    </tr>\n    <tr>\n      <th>4</th>\n      <td>Orbit Distance:</td>\n      <td>227,943,824 km (1.38 AU)</td>\n    </tr>\n    <tr>\n      <th>5</th>\n      <td>Orbit Period:</td>\n      <td>687 days (1.9 years)</td>\n    </tr>\n    <tr>\n      <th>6</th>\n      <td>Surface Temperature:</td>\n      <td>-87 to -5 °C</td>\n    </tr>\n    <tr>\n      <th>7</th>\n      <td>First Record:</td>\n      <td>2nd millennium BC</td>\n    </tr>\n    <tr>\n      <th>8</th>\n      <td>Recorded By:</td>\n      <td>Egyptian astronomers</td>\n    </tr>\n  </tbody>\n</table>\n</div>"
     },
     "metadata": {},
     "execution_count": 9
    }
   ],
   "source": [
    "# Rename the columns\n",
    "facts_table.columns = [table_name, '']\n",
    "facts_table"
   ]
  },
  {
   "cell_type": "code",
   "execution_count": 10,
   "metadata": {
    "tags": []
   },
   "outputs": [],
   "source": [
    "# Convert the data to a HTML table string and remove the index\n",
    "html_facts_table = facts_table.to_html(index=False)"
   ]
  },
  {
   "cell_type": "markdown",
   "metadata": {},
   "source": [
    "### Mars Hemispheres"
   ]
  },
  {
   "cell_type": "code",
   "execution_count": 11,
   "metadata": {},
   "outputs": [],
   "source": [
    "# Set the URL for the image path, visit the page, create an HTML object, pass it to the parser\n",
    "base_url = 'https://astrogeology.usgs.gov/'\n",
    "hemisphere_url = 'https://astrogeology.usgs.gov/search/results?q=hemisphere+enhanced&k1=target&v1=Mars'\n",
    "browser.visit(hemisphere_url)\n",
    "\n",
    "hemisphere_html = browser.html\n",
    "hemisphere_soup = BeautifulSoup(hemisphere_html, 'html.parser')\n",
    "\n",
    "# Find the number of H3 tags because those are the title tags for each hemisphere\n",
    "title_location = hemisphere_soup.find('div', class_='collapsible results')\n",
    "titles = title_location.find_all('h3')\n",
    "\n",
    "hemisphere_list = []\n",
    "\n",
    "for title in titles:\n",
    "\n",
    "    # New dictionary for each entry\n",
    "    hemisphere_dict = {}\n",
    "\n",
    "    # Get the title from the h3 tag and strip off the last word and any leanding or trailing whitespaces\n",
    "    name = title.text\n",
    "    hemisphere_name = name.strip('Enhanced').strip()\n",
    "    hemisphere_dict['title'] = hemisphere_name\n",
    "\n",
    "    browser.click_link_by_partial_text(name)\n",
    "\n",
    "    img_link_html = browser.html\n",
    "    img_link_soup = BeautifulSoup(img_link_html, 'html.parser')\n",
    "    img_link_route = img_link_soup.find('div', class_='wide-image-wrapper').find('img')['src']\n",
    "    img_link = base_url + img_link_route\n",
    "\n",
    "    hemisphere_dict['img_url'] = img_link\n",
    "\n",
    "    hemisphere_list.append(hemisphere_dict)\n",
    "\n",
    "    browser.back()\n"
   ]
  },
  {
   "cell_type": "code",
   "execution_count": null,
   "metadata": {},
   "outputs": [],
   "source": []
  }
 ]
}